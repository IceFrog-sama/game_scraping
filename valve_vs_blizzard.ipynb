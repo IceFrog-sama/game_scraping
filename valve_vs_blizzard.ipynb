{
 "cells": [
  {
   "cell_type": "markdown",
   "id": "c6595304",
   "metadata": {},
   "source": [
    "##### Goal: Find out which game company has a higher overall rating (Valve vs Blizzard)"
   ]
  },
  {
   "cell_type": "markdown",
   "id": "ba76508a",
   "metadata": {},
   "source": [
    "## Web Scraping"
   ]
  },
  {
   "cell_type": "code",
   "execution_count": 1,
   "id": "a058ef25",
   "metadata": {},
   "outputs": [],
   "source": [
    "from bs4 import BeautifulSoup as bs\n",
    "import requests"
   ]
  },
  {
   "cell_type": "code",
   "execution_count": 2,
   "id": "cf564b57",
   "metadata": {},
   "outputs": [],
   "source": [
    "valve_url = 'https://en.wikipedia.org/wiki/List_of_Valve_games'\n",
    "blizzard_url = 'https://en.wikipedia.org/wiki/List_of_Blizzard_Entertainment_games'\n",
    "\n",
    "valve_html = requests.get(valve_url)\n",
    "blizzard_html = requests.get(blizzard_url)"
   ]
  },
  {
   "cell_type": "code",
   "execution_count": 3,
   "id": "d3246cb9",
   "metadata": {},
   "outputs": [],
   "source": [
    "soup = bs(valve_html.content)\n",
    "\n",
    "contents = soup.prettify()\n",
    "\n",
    "#print(contents)"
   ]
  },
  {
   "cell_type": "code",
   "execution_count": 4,
   "id": "092c9421",
   "metadata": {},
   "outputs": [],
   "source": [
    "games = soup.select('.wikitable i a')\n",
    "game_path = games[0]['href']\n",
    "\n",
    "#game_path"
   ]
  },
  {
   "cell_type": "code",
   "execution_count": 5,
   "id": "1bc56513",
   "metadata": {},
   "outputs": [],
   "source": [
    "def get_game_links(url):\n",
    "    html = requests.get(url)\n",
    "    soup = bs(html.content)\n",
    "    games = soup.select('.wikitable i a')\n",
    "    games = soup.select('.wikitable .fn i a')\n",
    "    game_links = []\n",
    "    base_path = 'https://en.wikipedia.org'\n",
    "\n",
    "    for game in games:\n",
    "        # subdirectory example: \"/wiki/Half-Life_(video_game)\"\n",
    "        game_subdirectory = game['href']\n",
    "        path = base_path + game_subdirectory\n",
    "        game_links.append(path)\n",
    "    \n",
    "    return game_links\n",
    "\n",
    "#get_game_links('https://en.wikipedia.org/wiki/List_of_Valve_games')"
   ]
  },
  {
   "cell_type": "markdown",
   "id": "50103e7f",
   "metadata": {},
   "source": [
    "Cleaning covers:\n",
    "- Remove references [a] [1] etc\n",
    "- Convert from all li elements in one string to list of strings\n",
    "- Remove whitespace chars like br, \\n, xa0, etc\n",
    "- Convert from release date string to datetime objects\n",
    "- Remove random strings in list at the end like (text), '', ':'"
   ]
  },
  {
   "cell_type": "code",
   "execution_count": 6,
   "id": "711aeab8",
   "metadata": {},
   "outputs": [],
   "source": [
    "import re\n",
    "\n",
    "def remove_ref(contents):\n",
    "    # regular expression to find all matches with format [c] where c is any character eg. [a] or [1]\n",
    "    reference = r'\\[.\\]'\n",
    "    \n",
    "    if type(contents) == str:\n",
    "        matches = re.findall(reference, contents)\n",
    "        # for each match, remove it from the string\n",
    "        for match in matches:\n",
    "            contents = contents.replace(match, '')\n",
    "        # final remove whitespace that might've been between ref n text\n",
    "        contents = contents.strip()\n",
    "        return contents\n",
    "    \n",
    "    elif type(contents) == list:\n",
    "        contents_list = []\n",
    "        for my_string in contents:\n",
    "            matches = re.findall(reference, my_string)\n",
    "            for match in matches:\n",
    "                my_string = my_string.replace(match, '')\n",
    "                # final remove whitespace that might've been between ref n text\n",
    "                my_string = my_string.strip()\n",
    "            contents_list.append(my_string)\n",
    "        return contents_list"
   ]
  },
  {
   "cell_type": "code",
   "execution_count": 7,
   "id": "264fc343",
   "metadata": {},
   "outputs": [],
   "source": [
    "def get_row_contents(row):\n",
    "    # to handle releases\n",
    "    # strip=True to remove whitespace chars (\\n, xa0, etc)\n",
    "    if row.select('li ul li'):\n",
    "        return [li.get_text('', strip=True) for li in row.select('li ul li')]\n",
    "    elif row.find('li'):\n",
    "        return [li.get_text('', strip=True) for li in row.find_all('li')]\n",
    "    elif row.find('br'):\n",
    "        # stripped strings strips out whitespace chars\n",
    "        return [text for text in row.find('td').stripped_strings]\n",
    "    elif \",\" in row.get_text():\n",
    "        return [text.strip() for text in row.find('td', class_='infobox-data').get_text().split(',')]\n",
    "    else:  \n",
    "        #print(row)\n",
    "        return row.find('td', class_='infobox-data').get_text()"
   ]
  },
  {
   "cell_type": "code",
   "execution_count": 8,
   "id": "9d0d54b3",
   "metadata": {},
   "outputs": [
    {
     "data": {
      "text/plain": [
       "'June 15, 2005'"
      ]
     },
     "execution_count": 8,
     "metadata": {},
     "output_type": "execute_result"
    }
   ],
   "source": [
    "import re\n",
    "\n",
    "def standardise_date(date):\n",
    "    # other date format\n",
    "    uncommon_date_re = r'\\d+[ ][A-Za-z]+[ ]\\d+'\n",
    "    if re.search(uncommon_date_re, date):\n",
    "        # first split string to list\n",
    "        # eg. 15 June 2005 to [15, 'June', 2005]\n",
    "        split_date = date.split()\n",
    "        # make date string like this: June 15, 2005\n",
    "        new_date = f'{split_date[1]} {split_date[0]}, {split_date[2]}'\n",
    "        return new_date\n",
    "    else:\n",
    "        return date\n",
    "\n",
    "standardise_date('15 June 2005')"
   ]
  },
  {
   "cell_type": "code",
   "execution_count": 9,
   "id": "455f6ba4",
   "metadata": {},
   "outputs": [
    {
     "data": {
      "text/plain": [
       "datetime.datetime(2005, 6, 15, 0, 0)"
      ]
     },
     "execution_count": 9,
     "metadata": {},
     "output_type": "execute_result"
    }
   ],
   "source": [
    "from datetime import datetime\n",
    "\n",
    "def convert_to_datetime(date_str):\n",
    "    date_format = '%B %d, %Y'\n",
    "    date = datetime.strptime(date_str, date_format)\n",
    "    return date\n",
    "\n",
    "convert_to_datetime('June 15, 2005')"
   ]
  },
  {
   "cell_type": "code",
   "execution_count": 10,
   "id": "9f7b8b58",
   "metadata": {},
   "outputs": [],
   "source": [
    "import re\n",
    "\n",
    "def get_release_date(row):\n",
    "    if row.select('ul li'):\n",
    "        contents = [li.get_text('', strip=True) for li in row.select('ul li')]\n",
    "        #print('in ul li if statement')\n",
    "    else:\n",
    "        contents = row.find('td', class_='infobox-data').get_text()\n",
    "        #print('in everything else')\n",
    "    #print(contents)\n",
    "    # June 15, 2005 or 15 June 2005 \n",
    "    date_re = r'([A-Za-z]+[ ]\\d+,[ ]\\d+)|(\\d+[ ][A-Za-z]+[ ]\\d+)'\n",
    "    \n",
    "    if type(contents) == str:\n",
    "        match = re.search(date_re, contents)\n",
    "        date = match.group()\n",
    "        standardised_date = standardise_date(date)\n",
    "        datetime_obj = convert_to_datetime(standardised_date)\n",
    "        return datetime_obj\n",
    "    elif type(contents) == list:\n",
    "        for i, item in enumerate(contents):\n",
    "            match = re.search(date_re, item)\n",
    "            #print(i, match)\n",
    "            if (match != None):\n",
    "                date = match.group()\n",
    "                standardised_date = standardise_date(date)\n",
    "                datetime_obj = convert_to_datetime(standardised_date)\n",
    "                return datetime_obj\n",
    "        return None\n",
    "\n",
    "#get_release_date(['Microsoft Windows', '29 November 2006', 'Mac OS X', '23 September 2010', 'Linux', '5 June 2013'])"
   ]
  },
  {
   "cell_type": "markdown",
   "id": "8df298e8",
   "metadata": {},
   "source": [
    "#### Scrape game ratings from Metacritic"
   ]
  },
  {
   "cell_type": "code",
   "execution_count": 11,
   "id": "cfaff16f",
   "metadata": {},
   "outputs": [],
   "source": [
    "import re\n",
    "\n",
    "def name_to_link(name):\n",
    "    # matches when a char is not a-zA-Z or 0-9 or \"_\"\n",
    "    alphanumeric_re = r'\\W'\n",
    "    \n",
    "    name = name.lower()\n",
    "    name = name.replace(' ', '_')\n",
    "    name = name.replace('-', '_')\n",
    "    # remove matches of non alphanumeric or \"_\"\n",
    "    name = re.sub(alphanumeric_re, '', name)\n",
    "    name = name.replace('_', '-')\n",
    "    \n",
    "    return name\n",
    "\n",
    "#print(name_to_link('Garry\\'s Mod'))\n",
    "#print(name_to_link('Half life 2: Lost Coast'))"
   ]
  },
  {
   "cell_type": "code",
   "execution_count": 12,
   "id": "743cd5dc",
   "metadata": {},
   "outputs": [],
   "source": [
    "def get_game_rating(name):\n",
    "    # change name to link format\n",
    "    # eg. https://www.metacritic.com/game/pc/garrys-mod, https://www.metacritic.com/game/pc/half-life\n",
    "    name = name_to_link(name)\n",
    "    url = f'https://www.metacritic.com/game/pc/{name}'\n",
    "\n",
    "    user_agent = {'User-agent': 'Mozilla/5.0'}\n",
    "    response = requests.get(url, headers = user_agent)\n",
    "    soup = bs(response.content)\n",
    "    \n",
    "    metascore = soup.find('span', itemprop='ratingValue')\n",
    "    if metascore is not None:\n",
    "        metascore_str = metascore.get_text()\n",
    "    else:\n",
    "        metascore_str = 'N/A'\n",
    "        \n",
    "    userscore = soup.select('.score_summary .metascore_anchor .metascore_w.user')\n",
    "    # by default returns empty list\n",
    "    if len(userscore) > 0:\n",
    "        userscore_str = userscore[0].get_text()\n",
    "    else:\n",
    "        userscore_str = 'N/A'\n",
    "    \n",
    "    return metascore_str, userscore_str"
   ]
  },
  {
   "cell_type": "code",
   "execution_count": 13,
   "id": "67289fa2",
   "metadata": {},
   "outputs": [],
   "source": [
    "# deal with random (text) and '' whitespaces at the end\n",
    "def remove_random_contents(contents):\n",
    "    # to match format (Japan something) or ':'\n",
    "    random_re = r'(\\(*\\))|[:]'\n",
    "    if type(contents) == list:\n",
    "        for item in contents:\n",
    "            # if find item in format (Japan something) or ':' or empty string ''\n",
    "            if re.search(random_re, item) or len(item) == 0:\n",
    "                # remove that item from contents\n",
    "                contents.remove(item)\n",
    "    return contents"
   ]
  },
  {
   "cell_type": "code",
   "execution_count": 14,
   "id": "5dbaa9e8",
   "metadata": {},
   "outputs": [],
   "source": [
    "def get_info_box(url):\n",
    "    game_html = requests.get(url)\n",
    "    game_soup = bs(game_html.content)\n",
    "    base_path = 'https://en.wikipedia.org'\n",
    "    \n",
    "    info_box = game_soup.find('table', class_='infobox')\n",
    "    info_rows = info_box.find_all('tr')\n",
    "    \n",
    "    game_info = {}\n",
    "    \n",
    "    for i, row in enumerate(info_rows):\n",
    "        # get title from infobox\n",
    "        if row.select('.infobox-above'):\n",
    "            game_info['Name'] = row.find('th').get_text()\n",
    "            # handling really rare edge case with different naming\n",
    "            if game_info['Name'] == 'Hearthstone':\n",
    "                game_info['Name'] = 'Hearthstone: Heroes of Warcraft'\n",
    "        # get image link from infobox\n",
    "        elif row.select('.infobox-image'):\n",
    "            image_link = base_path + row.find('a')['href']\n",
    "            game_info['Image_link'] = image_link\n",
    "        else:\n",
    "            label = row.find('th', class_='infobox-label').get_text()\n",
    "            contents = get_row_contents(row)\n",
    "            contents = remove_ref(contents)\n",
    "            if (label == 'Release'):\n",
    "                #print(contents)\n",
    "                contents = get_release_date(row)\n",
    "                #print(contents)\n",
    "            #print(contents)\n",
    "            contents = remove_random_contents(contents)\n",
    "            #print(contents)\n",
    "            #print(f'Label: {label}, type: {type(contents)}')\n",
    "                \n",
    "            #print(contents)\n",
    "            game_info[label] = contents\n",
    "    \n",
    "    # if no Release label found, it's not yet released\n",
    "    if 'Release' not in game_info:\n",
    "        game_info['Release'] = None\n",
    "    \n",
    "    game_info['Source'] = url\n",
    "    \n",
    "    metascore, userscore = get_game_rating(game_info['Name'])\n",
    "    game_info['Metascore'] = metascore\n",
    "    game_info['User Score'] = userscore\n",
    "    \n",
    "    return game_info\n",
    "    \n",
    "#get_info_box('https://en.wikipedia.org/wiki/Justice_League_Task_Force_(video_game)')"
   ]
  },
  {
   "cell_type": "code",
   "execution_count": 15,
   "id": "bd2ba608",
   "metadata": {},
   "outputs": [],
   "source": [
    "def scrape_game_company(url):\n",
    "    game_links = get_game_links(url)\n",
    "    games_info = []\n",
    "    for i, link in enumerate(game_links):\n",
    "        try:\n",
    "            games_info.append(get_info_box(link))\n",
    "            if (i % 10 == 0):\n",
    "                print(f'--Scraped {i} games--')\n",
    "\n",
    "        except Exception as e:\n",
    "            print(link)\n",
    "            print(e)\n",
    "\n",
    "    print(f'Scraping finished with {i} games')\n",
    "    return games_info"
   ]
  },
  {
   "cell_type": "code",
   "execution_count": 16,
   "id": "dc1753a1",
   "metadata": {},
   "outputs": [
    {
     "name": "stdout",
     "output_type": "stream",
     "text": [
      "--Scraped 0 games--\n",
      "--Scraped 10 games--\n",
      "--Scraped 20 games--\n",
      "Scraping finished with 26 games\n"
     ]
    }
   ],
   "source": [
    "valve_games = scrape_game_company(valve_url)\n",
    "#valve_games"
   ]
  },
  {
   "cell_type": "code",
   "execution_count": 17,
   "id": "ff601dae",
   "metadata": {},
   "outputs": [
    {
     "name": "stdout",
     "output_type": "stream",
     "text": [
      "--Scraped 0 games--\n",
      "--Scraped 10 games--\n",
      "--Scraped 20 games--\n",
      "Scraping finished with 21 games\n"
     ]
    }
   ],
   "source": [
    "# ignore exceptions (they're games that haven't been released)\n",
    "blizzard_games = scrape_game_company(blizzard_url)\n",
    "#blizzard_games"
   ]
  },
  {
   "cell_type": "code",
   "execution_count": 18,
   "id": "00799e5a",
   "metadata": {},
   "outputs": [
    {
     "data": {
      "text/plain": [
       "{'Name': 'StarCraft',\n",
       " 'Image_link': 'https://en.wikipedia.org/wiki/File:StarCraft_box_art.jpg',\n",
       " 'Developer(s)': 'Blizzard Entertainment',\n",
       " 'Publisher(s)': 'Blizzard Entertainment',\n",
       " 'Designer(s)': ['Chris Metzen', 'James Phinney'],\n",
       " 'Composer(s)': ['Derek Duke',\n",
       "  'Jason Hayes',\n",
       "  'Glenn Stafford',\n",
       "  'Tracy W. Bush'],\n",
       " 'Series': 'StarCraft',\n",
       " 'Platform(s)': ['Microsoft Windows', 'Classic Mac OS', 'Nintendo 64'],\n",
       " 'Release': datetime.datetime(1998, 3, 31, 0, 0),\n",
       " 'Genre(s)': 'Real-time strategy',\n",
       " 'Mode(s)': ['Single-player', 'multiplayer'],\n",
       " 'Source': 'https://en.wikipedia.org/wiki/StarCraft_(video_game)',\n",
       " 'Metascore': '88',\n",
       " 'User Score': '9.1'}"
      ]
     },
     "execution_count": 18,
     "metadata": {},
     "output_type": "execute_result"
    }
   ],
   "source": [
    "# see random game scraped\n",
    "blizzard_games[10]"
   ]
  },
  {
   "cell_type": "markdown",
   "id": "b5132994",
   "metadata": {},
   "source": [
    "#### Save games to different file formats"
   ]
  },
  {
   "cell_type": "code",
   "execution_count": 19,
   "id": "82a0572c",
   "metadata": {},
   "outputs": [],
   "source": [
    "from datetime import datetime\n",
    "\n",
    "# converts datetime objects in game dictionaries to strings\n",
    "def json_friendly(game_dict):\n",
    "    for game in game_dict:\n",
    "        datetime_obj = game['Release']\n",
    "        if datetime_obj == None:\n",
    "            continue\n",
    "        date_str = datetime_obj.strftime('%B %d, %Y')\n",
    "        game['Release'] = date_str\n",
    "    return game_dict\n",
    "    \n",
    "#a = json_friendly(blizzard_games)"
   ]
  },
  {
   "cell_type": "code",
   "execution_count": 20,
   "id": "08eaa466",
   "metadata": {},
   "outputs": [],
   "source": [
    "# Save and load JSON files - compatible with most programming languages\n",
    "import json\n",
    "\n",
    "def save_json(filename, data):\n",
    "    data = json_friendly(data)\n",
    "    with open(filename, 'w') as f:\n",
    "        json.dump(data, f)\n",
    "        \n",
    "def load_json(filename):\n",
    "    with open(filename, 'r') as f:\n",
    "        return json.load(f)"
   ]
  },
  {
   "cell_type": "code",
   "execution_count": 21,
   "id": "ae1f2067",
   "metadata": {},
   "outputs": [],
   "source": [
    "# Save and load pickle files - can store python specific objects like datetime\n",
    "import pickle\n",
    "\n",
    "def save_pickle(filename, data):\n",
    "    with open(filename, 'wb') as f:\n",
    "        pickle.dump(data, f)\n",
    "\n",
    "def load_pickle(filename):\n",
    "    with open(filename, 'rb') as f:\n",
    "        return pickle.load(f)"
   ]
  },
  {
   "cell_type": "code",
   "execution_count": 22,
   "id": "64c84d17",
   "metadata": {},
   "outputs": [],
   "source": [
    "save_pickle('valve_cleaned_pickle.pickle', valve_games)\n",
    "save_pickle('blizzard_cleaned_pickle.pickle', blizzard_games)"
   ]
  },
  {
   "cell_type": "code",
   "execution_count": 23,
   "id": "d7a2396e",
   "metadata": {},
   "outputs": [],
   "source": [
    "save_json('valve_cleaned_json.json', valve_games)\n",
    "save_json('blizzard_cleaned_json.json', blizzard_games)"
   ]
  },
  {
   "cell_type": "code",
   "execution_count": 24,
   "id": "3f99048d",
   "metadata": {},
   "outputs": [],
   "source": [
    "import pandas as pd\n",
    "\n",
    "valve_df = pd.DataFrame.from_dict(valve_games)\n",
    "blizzard_df = pd.DataFrame.from_dict(blizzard_games)\n",
    "\n",
    "valve_df.to_csv('valve_cleaned_csv.csv', index=False)\n",
    "blizzard_df.to_csv('blizzard_cleaned_csv.csv', index=False)"
   ]
  },
  {
   "cell_type": "markdown",
   "id": "fab02e67",
   "metadata": {},
   "source": [
    "#### Try loading data in"
   ]
  },
  {
   "cell_type": "code",
   "execution_count": 25,
   "id": "2e68034a",
   "metadata": {},
   "outputs": [],
   "source": [
    "valve_json = load_json('valve_cleaned_json.json')\n",
    "blizzard_json = load_json('blizzard_cleaned_json.json')"
   ]
  },
  {
   "cell_type": "code",
   "execution_count": 26,
   "id": "d56d0aef",
   "metadata": {},
   "outputs": [],
   "source": [
    "valve_games = load_pickle('valve_cleaned_pickle.pickle')\n",
    "blizzard_games = load_pickle('blizzard_cleaned_pickle.pickle')"
   ]
  },
  {
   "cell_type": "markdown",
   "id": "63bb9040",
   "metadata": {},
   "source": [
    "## EDA"
   ]
  },
  {
   "cell_type": "code",
   "execution_count": 16,
   "id": "333374ce",
   "metadata": {},
   "outputs": [
    {
     "data": {
      "text/html": [
       "<div>\n",
       "<style scoped>\n",
       "    .dataframe tbody tr th:only-of-type {\n",
       "        vertical-align: middle;\n",
       "    }\n",
       "\n",
       "    .dataframe tbody tr th {\n",
       "        vertical-align: top;\n",
       "    }\n",
       "\n",
       "    .dataframe thead th {\n",
       "        text-align: right;\n",
       "    }\n",
       "</style>\n",
       "<table border=\"1\" class=\"dataframe\">\n",
       "  <thead>\n",
       "    <tr style=\"text-align: right;\">\n",
       "      <th></th>\n",
       "      <th>Name</th>\n",
       "      <th>Image_link</th>\n",
       "      <th>Developer(s)</th>\n",
       "      <th>Publisher(s)</th>\n",
       "      <th>Writer(s)</th>\n",
       "      <th>Composer(s)</th>\n",
       "      <th>Series</th>\n",
       "      <th>Engine</th>\n",
       "      <th>Platform(s)</th>\n",
       "      <th>Release</th>\n",
       "      <th>Genre(s)</th>\n",
       "      <th>Mode(s)</th>\n",
       "      <th>Source</th>\n",
       "      <th>Metascore</th>\n",
       "      <th>User Score</th>\n",
       "      <th>Designer(s)</th>\n",
       "      <th>Artist(s)</th>\n",
       "      <th>Director(s)</th>\n",
       "      <th>Producer(s)</th>\n",
       "      <th>Programmer(s)</th>\n",
       "    </tr>\n",
       "  </thead>\n",
       "  <tbody>\n",
       "    <tr>\n",
       "      <th>0</th>\n",
       "      <td>Half-Life</td>\n",
       "      <td>https://en.wikipedia.org/wiki/File:Half-Life_C...</td>\n",
       "      <td>Valve</td>\n",
       "      <td>Sierra Studios</td>\n",
       "      <td>Marc Laidlaw</td>\n",
       "      <td>Kelly Bailey</td>\n",
       "      <td>Half-Life</td>\n",
       "      <td>GoldSrc</td>\n",
       "      <td>['Windows', 'PlayStation 2', 'OS X', 'Linux']</td>\n",
       "      <td>November 19, 1998</td>\n",
       "      <td>First-person shooter</td>\n",
       "      <td>['Single-player', 'multiplayer']</td>\n",
       "      <td>https://en.wikipedia.org/wiki/Half-Life_(video...</td>\n",
       "      <td>96.0</td>\n",
       "      <td>9.1</td>\n",
       "      <td>NaN</td>\n",
       "      <td>NaN</td>\n",
       "      <td>NaN</td>\n",
       "      <td>NaN</td>\n",
       "      <td>NaN</td>\n",
       "    </tr>\n",
       "    <tr>\n",
       "      <th>1</th>\n",
       "      <td>Team Fortress Classic</td>\n",
       "      <td>https://en.wikipedia.org/wiki/File:Team_Fortre...</td>\n",
       "      <td>Valve</td>\n",
       "      <td>['Sierra Studios']</td>\n",
       "      <td>NaN</td>\n",
       "      <td>NaN</td>\n",
       "      <td>NaN</td>\n",
       "      <td>GoldSrc</td>\n",
       "      <td>['Microsoft Windows', 'OS X', 'Linux']</td>\n",
       "      <td>April 07, 1999</td>\n",
       "      <td>First-person shooter</td>\n",
       "      <td>Multiplayer</td>\n",
       "      <td>https://en.wikipedia.org/wiki/Team_Fortress_Cl...</td>\n",
       "      <td>NaN</td>\n",
       "      <td>7.2</td>\n",
       "      <td>['John Cook', 'Robin Walker']</td>\n",
       "      <td>NaN</td>\n",
       "      <td>NaN</td>\n",
       "      <td>NaN</td>\n",
       "      <td>NaN</td>\n",
       "    </tr>\n",
       "    <tr>\n",
       "      <th>2</th>\n",
       "      <td>Counter-Strike</td>\n",
       "      <td>https://en.wikipedia.org/wiki/File:Counter-Str...</td>\n",
       "      <td>Valve</td>\n",
       "      <td>['Sierra Studios']</td>\n",
       "      <td>NaN</td>\n",
       "      <td>NaN</td>\n",
       "      <td>Counter-Strike</td>\n",
       "      <td>GoldSrc</td>\n",
       "      <td>['Windows', 'Xbox', 'OS X', 'Linux']</td>\n",
       "      <td>November 09, 2000</td>\n",
       "      <td>First-person shooter</td>\n",
       "      <td>Multiplayer</td>\n",
       "      <td>https://en.wikipedia.org/wiki/Counter-Strike_(...</td>\n",
       "      <td>88.0</td>\n",
       "      <td>9.2</td>\n",
       "      <td>['Minh Le', 'Jess Cliffe']</td>\n",
       "      <td>NaN</td>\n",
       "      <td>NaN</td>\n",
       "      <td>NaN</td>\n",
       "      <td>NaN</td>\n",
       "    </tr>\n",
       "    <tr>\n",
       "      <th>3</th>\n",
       "      <td>Day of Defeat</td>\n",
       "      <td>https://en.wikipedia.org/wiki/File:Day_of_Defe...</td>\n",
       "      <td>Valve</td>\n",
       "      <td>['Activision']</td>\n",
       "      <td>NaN</td>\n",
       "      <td>Michael Gordon Shapiro</td>\n",
       "      <td>NaN</td>\n",
       "      <td>GoldSrc</td>\n",
       "      <td>['Microsoft Windows', 'OS X', 'Linux']</td>\n",
       "      <td>May 06, 2003</td>\n",
       "      <td>First-person shooter</td>\n",
       "      <td>Multiplayer</td>\n",
       "      <td>https://en.wikipedia.org/wiki/Day_of_Defeat</td>\n",
       "      <td>79.0</td>\n",
       "      <td>9.0</td>\n",
       "      <td>NaN</td>\n",
       "      <td>NaN</td>\n",
       "      <td>NaN</td>\n",
       "      <td>NaN</td>\n",
       "      <td>NaN</td>\n",
       "    </tr>\n",
       "    <tr>\n",
       "      <th>4</th>\n",
       "      <td>Counter-Strike: Condition Zero</td>\n",
       "      <td>https://en.wikipedia.org/wiki/File:CZbox.jpg</td>\n",
       "      <td>['Ritual Entertainment', 'Turtle Rock Studios'...</td>\n",
       "      <td>['Sierra Entertainment']</td>\n",
       "      <td>NaN</td>\n",
       "      <td>NaN</td>\n",
       "      <td>Counter-Strike</td>\n",
       "      <td>GoldSrc</td>\n",
       "      <td>['Windows', 'OS X', 'Linux']</td>\n",
       "      <td>March 23, 2004</td>\n",
       "      <td>First-person shooter</td>\n",
       "      <td>['Single-player', 'multiplayer']</td>\n",
       "      <td>https://en.wikipedia.org/wiki/Counter-Strike:_...</td>\n",
       "      <td>65.0</td>\n",
       "      <td>8.7</td>\n",
       "      <td>NaN</td>\n",
       "      <td>NaN</td>\n",
       "      <td>NaN</td>\n",
       "      <td>NaN</td>\n",
       "      <td>NaN</td>\n",
       "    </tr>\n",
       "  </tbody>\n",
       "</table>\n",
       "</div>"
      ],
      "text/plain": [
       "                             Name  \\\n",
       "0                       Half-Life   \n",
       "1           Team Fortress Classic   \n",
       "2                  Counter-Strike   \n",
       "3                   Day of Defeat   \n",
       "4  Counter-Strike: Condition Zero   \n",
       "\n",
       "                                          Image_link  \\\n",
       "0  https://en.wikipedia.org/wiki/File:Half-Life_C...   \n",
       "1  https://en.wikipedia.org/wiki/File:Team_Fortre...   \n",
       "2  https://en.wikipedia.org/wiki/File:Counter-Str...   \n",
       "3  https://en.wikipedia.org/wiki/File:Day_of_Defe...   \n",
       "4       https://en.wikipedia.org/wiki/File:CZbox.jpg   \n",
       "\n",
       "                                        Developer(s)  \\\n",
       "0                                              Valve   \n",
       "1                                              Valve   \n",
       "2                                              Valve   \n",
       "3                                              Valve   \n",
       "4  ['Ritual Entertainment', 'Turtle Rock Studios'...   \n",
       "\n",
       "               Publisher(s)     Writer(s)             Composer(s)  \\\n",
       "0            Sierra Studios  Marc Laidlaw            Kelly Bailey   \n",
       "1        ['Sierra Studios']           NaN                     NaN   \n",
       "2        ['Sierra Studios']           NaN                     NaN   \n",
       "3            ['Activision']           NaN  Michael Gordon Shapiro   \n",
       "4  ['Sierra Entertainment']           NaN                     NaN   \n",
       "\n",
       "           Series   Engine                                    Platform(s)  \\\n",
       "0       Half-Life  GoldSrc  ['Windows', 'PlayStation 2', 'OS X', 'Linux']   \n",
       "1             NaN  GoldSrc         ['Microsoft Windows', 'OS X', 'Linux']   \n",
       "2  Counter-Strike  GoldSrc           ['Windows', 'Xbox', 'OS X', 'Linux']   \n",
       "3             NaN  GoldSrc         ['Microsoft Windows', 'OS X', 'Linux']   \n",
       "4  Counter-Strike  GoldSrc                   ['Windows', 'OS X', 'Linux']   \n",
       "\n",
       "             Release              Genre(s)                           Mode(s)  \\\n",
       "0  November 19, 1998  First-person shooter  ['Single-player', 'multiplayer']   \n",
       "1     April 07, 1999  First-person shooter                       Multiplayer   \n",
       "2  November 09, 2000  First-person shooter                       Multiplayer   \n",
       "3       May 06, 2003  First-person shooter                       Multiplayer   \n",
       "4     March 23, 2004  First-person shooter  ['Single-player', 'multiplayer']   \n",
       "\n",
       "                                              Source  Metascore  User Score  \\\n",
       "0  https://en.wikipedia.org/wiki/Half-Life_(video...       96.0         9.1   \n",
       "1  https://en.wikipedia.org/wiki/Team_Fortress_Cl...        NaN         7.2   \n",
       "2  https://en.wikipedia.org/wiki/Counter-Strike_(...       88.0         9.2   \n",
       "3        https://en.wikipedia.org/wiki/Day_of_Defeat       79.0         9.0   \n",
       "4  https://en.wikipedia.org/wiki/Counter-Strike:_...       65.0         8.7   \n",
       "\n",
       "                     Designer(s) Artist(s) Director(s) Producer(s)  \\\n",
       "0                            NaN       NaN         NaN         NaN   \n",
       "1  ['John Cook', 'Robin Walker']       NaN         NaN         NaN   \n",
       "2     ['Minh Le', 'Jess Cliffe']       NaN         NaN         NaN   \n",
       "3                            NaN       NaN         NaN         NaN   \n",
       "4                            NaN       NaN         NaN         NaN   \n",
       "\n",
       "  Programmer(s)  \n",
       "0           NaN  \n",
       "1           NaN  \n",
       "2           NaN  \n",
       "3           NaN  \n",
       "4           NaN  "
      ]
     },
     "execution_count": 16,
     "metadata": {},
     "output_type": "execute_result"
    }
   ],
   "source": [
    "import pandas as pd\n",
    "\n",
    "valve_df = pd.read_csv('valve_cleaned_csv.csv')\n",
    "valve_df.head()"
   ]
  },
  {
   "cell_type": "code",
   "execution_count": 17,
   "id": "58ea4e9d",
   "metadata": {
    "scrolled": true
   },
   "outputs": [],
   "source": [
    "#blizzard_df = pd.read_csv('blizzard_cleaned_csv.csv')\n",
    "#blizzard_df.head()"
   ]
  },
  {
   "cell_type": "code",
   "execution_count": 18,
   "id": "c15eb308",
   "metadata": {},
   "outputs": [
    {
     "data": {
      "text/plain": [
       "Index(['Name', 'Image_link', 'Developer(s)', 'Publisher(s)', 'Writer(s)',\n",
       "       'Composer(s)', 'Series', 'Engine', 'Platform(s)', 'Release', 'Genre(s)',\n",
       "       'Mode(s)', 'Source', 'Metascore', 'User Score', 'Designer(s)',\n",
       "       'Artist(s)', 'Director(s)', 'Producer(s)', 'Programmer(s)'],\n",
       "      dtype='object')"
      ]
     },
     "execution_count": 18,
     "metadata": {},
     "output_type": "execute_result"
    }
   ],
   "source": [
    "# columns\n",
    "valve_df.columns"
   ]
  },
  {
   "cell_type": "code",
   "execution_count": 34,
   "id": "1c36dc87",
   "metadata": {},
   "outputs": [
    {
     "data": {
      "text/html": [
       "<div>\n",
       "<style scoped>\n",
       "    .dataframe tbody tr th:only-of-type {\n",
       "        vertical-align: middle;\n",
       "    }\n",
       "\n",
       "    .dataframe tbody tr th {\n",
       "        vertical-align: top;\n",
       "    }\n",
       "\n",
       "    .dataframe thead th {\n",
       "        text-align: right;\n",
       "    }\n",
       "</style>\n",
       "<table border=\"1\" class=\"dataframe\">\n",
       "  <thead>\n",
       "    <tr style=\"text-align: right;\">\n",
       "      <th></th>\n",
       "      <th>Metascore</th>\n",
       "      <th>User Score</th>\n",
       "    </tr>\n",
       "  </thead>\n",
       "  <tbody>\n",
       "    <tr>\n",
       "      <th>count</th>\n",
       "      <td>20.000000</td>\n",
       "      <td>27.000000</td>\n",
       "    </tr>\n",
       "    <tr>\n",
       "      <th>mean</th>\n",
       "      <td>86.950000</td>\n",
       "      <td>8.296296</td>\n",
       "    </tr>\n",
       "    <tr>\n",
       "      <th>std</th>\n",
       "      <td>8.075141</td>\n",
       "      <td>1.437809</td>\n",
       "    </tr>\n",
       "    <tr>\n",
       "      <th>min</th>\n",
       "      <td>65.000000</td>\n",
       "      <td>2.200000</td>\n",
       "    </tr>\n",
       "    <tr>\n",
       "      <th>25%</th>\n",
       "      <td>82.250000</td>\n",
       "      <td>8.050000</td>\n",
       "    </tr>\n",
       "    <tr>\n",
       "      <th>50%</th>\n",
       "      <td>89.000000</td>\n",
       "      <td>8.900000</td>\n",
       "    </tr>\n",
       "    <tr>\n",
       "      <th>75%</th>\n",
       "      <td>92.250000</td>\n",
       "      <td>9.100000</td>\n",
       "    </tr>\n",
       "    <tr>\n",
       "      <th>max</th>\n",
       "      <td>96.000000</td>\n",
       "      <td>9.200000</td>\n",
       "    </tr>\n",
       "  </tbody>\n",
       "</table>\n",
       "</div>"
      ],
      "text/plain": [
       "       Metascore  User Score\n",
       "count  20.000000   27.000000\n",
       "mean   86.950000    8.296296\n",
       "std     8.075141    1.437809\n",
       "min    65.000000    2.200000\n",
       "25%    82.250000    8.050000\n",
       "50%    89.000000    8.900000\n",
       "75%    92.250000    9.100000\n",
       "max    96.000000    9.200000"
      ]
     },
     "execution_count": 34,
     "metadata": {},
     "output_type": "execute_result"
    }
   ],
   "source": [
    "valve_df.describe()"
   ]
  },
  {
   "cell_type": "code",
   "execution_count": 19,
   "id": "c2111c31",
   "metadata": {},
   "outputs": [
    {
     "data": {
      "text/html": [
       "<div>\n",
       "<style scoped>\n",
       "    .dataframe tbody tr th:only-of-type {\n",
       "        vertical-align: middle;\n",
       "    }\n",
       "\n",
       "    .dataframe tbody tr th {\n",
       "        vertical-align: top;\n",
       "    }\n",
       "\n",
       "    .dataframe thead th {\n",
       "        text-align: right;\n",
       "    }\n",
       "</style>\n",
       "<table border=\"1\" class=\"dataframe\">\n",
       "  <thead>\n",
       "    <tr style=\"text-align: right;\">\n",
       "      <th></th>\n",
       "      <th>Name</th>\n",
       "      <th>Developer(s)</th>\n",
       "      <th>Publisher(s)</th>\n",
       "      <th>Writer(s)</th>\n",
       "      <th>Composer(s)</th>\n",
       "      <th>Series</th>\n",
       "      <th>Engine</th>\n",
       "      <th>Platform(s)</th>\n",
       "      <th>Release</th>\n",
       "      <th>Genre(s)</th>\n",
       "      <th>Mode(s)</th>\n",
       "      <th>Metascore</th>\n",
       "      <th>User Score</th>\n",
       "      <th>Designer(s)</th>\n",
       "      <th>Artist(s)</th>\n",
       "      <th>Director(s)</th>\n",
       "      <th>Producer(s)</th>\n",
       "      <th>Programmer(s)</th>\n",
       "    </tr>\n",
       "  </thead>\n",
       "  <tbody>\n",
       "    <tr>\n",
       "      <th>0</th>\n",
       "      <td>Half-Life</td>\n",
       "      <td>Valve</td>\n",
       "      <td>Sierra Studios</td>\n",
       "      <td>Marc Laidlaw</td>\n",
       "      <td>Kelly Bailey</td>\n",
       "      <td>Half-Life</td>\n",
       "      <td>GoldSrc</td>\n",
       "      <td>['Windows', 'PlayStation 2', 'OS X', 'Linux']</td>\n",
       "      <td>November 19, 1998</td>\n",
       "      <td>First-person shooter</td>\n",
       "      <td>['Single-player', 'multiplayer']</td>\n",
       "      <td>96.0</td>\n",
       "      <td>9.1</td>\n",
       "      <td>NaN</td>\n",
       "      <td>NaN</td>\n",
       "      <td>NaN</td>\n",
       "      <td>NaN</td>\n",
       "      <td>NaN</td>\n",
       "    </tr>\n",
       "    <tr>\n",
       "      <th>1</th>\n",
       "      <td>Team Fortress Classic</td>\n",
       "      <td>Valve</td>\n",
       "      <td>['Sierra Studios']</td>\n",
       "      <td>NaN</td>\n",
       "      <td>NaN</td>\n",
       "      <td>NaN</td>\n",
       "      <td>GoldSrc</td>\n",
       "      <td>['Microsoft Windows', 'OS X', 'Linux']</td>\n",
       "      <td>April 07, 1999</td>\n",
       "      <td>First-person shooter</td>\n",
       "      <td>Multiplayer</td>\n",
       "      <td>NaN</td>\n",
       "      <td>7.2</td>\n",
       "      <td>['John Cook', 'Robin Walker']</td>\n",
       "      <td>NaN</td>\n",
       "      <td>NaN</td>\n",
       "      <td>NaN</td>\n",
       "      <td>NaN</td>\n",
       "    </tr>\n",
       "    <tr>\n",
       "      <th>2</th>\n",
       "      <td>Counter-Strike</td>\n",
       "      <td>Valve</td>\n",
       "      <td>['Sierra Studios']</td>\n",
       "      <td>NaN</td>\n",
       "      <td>NaN</td>\n",
       "      <td>Counter-Strike</td>\n",
       "      <td>GoldSrc</td>\n",
       "      <td>['Windows', 'Xbox', 'OS X', 'Linux']</td>\n",
       "      <td>November 09, 2000</td>\n",
       "      <td>First-person shooter</td>\n",
       "      <td>Multiplayer</td>\n",
       "      <td>88.0</td>\n",
       "      <td>9.2</td>\n",
       "      <td>['Minh Le', 'Jess Cliffe']</td>\n",
       "      <td>NaN</td>\n",
       "      <td>NaN</td>\n",
       "      <td>NaN</td>\n",
       "      <td>NaN</td>\n",
       "    </tr>\n",
       "    <tr>\n",
       "      <th>3</th>\n",
       "      <td>Day of Defeat</td>\n",
       "      <td>Valve</td>\n",
       "      <td>['Activision']</td>\n",
       "      <td>NaN</td>\n",
       "      <td>Michael Gordon Shapiro</td>\n",
       "      <td>NaN</td>\n",
       "      <td>GoldSrc</td>\n",
       "      <td>['Microsoft Windows', 'OS X', 'Linux']</td>\n",
       "      <td>May 06, 2003</td>\n",
       "      <td>First-person shooter</td>\n",
       "      <td>Multiplayer</td>\n",
       "      <td>79.0</td>\n",
       "      <td>9.0</td>\n",
       "      <td>NaN</td>\n",
       "      <td>NaN</td>\n",
       "      <td>NaN</td>\n",
       "      <td>NaN</td>\n",
       "      <td>NaN</td>\n",
       "    </tr>\n",
       "    <tr>\n",
       "      <th>4</th>\n",
       "      <td>Counter-Strike: Condition Zero</td>\n",
       "      <td>['Ritual Entertainment', 'Turtle Rock Studios'...</td>\n",
       "      <td>['Sierra Entertainment']</td>\n",
       "      <td>NaN</td>\n",
       "      <td>NaN</td>\n",
       "      <td>Counter-Strike</td>\n",
       "      <td>GoldSrc</td>\n",
       "      <td>['Windows', 'OS X', 'Linux']</td>\n",
       "      <td>March 23, 2004</td>\n",
       "      <td>First-person shooter</td>\n",
       "      <td>['Single-player', 'multiplayer']</td>\n",
       "      <td>65.0</td>\n",
       "      <td>8.7</td>\n",
       "      <td>NaN</td>\n",
       "      <td>NaN</td>\n",
       "      <td>NaN</td>\n",
       "      <td>NaN</td>\n",
       "      <td>NaN</td>\n",
       "    </tr>\n",
       "  </tbody>\n",
       "</table>\n",
       "</div>"
      ],
      "text/plain": [
       "                             Name  \\\n",
       "0                       Half-Life   \n",
       "1           Team Fortress Classic   \n",
       "2                  Counter-Strike   \n",
       "3                   Day of Defeat   \n",
       "4  Counter-Strike: Condition Zero   \n",
       "\n",
       "                                        Developer(s)  \\\n",
       "0                                              Valve   \n",
       "1                                              Valve   \n",
       "2                                              Valve   \n",
       "3                                              Valve   \n",
       "4  ['Ritual Entertainment', 'Turtle Rock Studios'...   \n",
       "\n",
       "               Publisher(s)     Writer(s)             Composer(s)  \\\n",
       "0            Sierra Studios  Marc Laidlaw            Kelly Bailey   \n",
       "1        ['Sierra Studios']           NaN                     NaN   \n",
       "2        ['Sierra Studios']           NaN                     NaN   \n",
       "3            ['Activision']           NaN  Michael Gordon Shapiro   \n",
       "4  ['Sierra Entertainment']           NaN                     NaN   \n",
       "\n",
       "           Series   Engine                                    Platform(s)  \\\n",
       "0       Half-Life  GoldSrc  ['Windows', 'PlayStation 2', 'OS X', 'Linux']   \n",
       "1             NaN  GoldSrc         ['Microsoft Windows', 'OS X', 'Linux']   \n",
       "2  Counter-Strike  GoldSrc           ['Windows', 'Xbox', 'OS X', 'Linux']   \n",
       "3             NaN  GoldSrc         ['Microsoft Windows', 'OS X', 'Linux']   \n",
       "4  Counter-Strike  GoldSrc                   ['Windows', 'OS X', 'Linux']   \n",
       "\n",
       "             Release              Genre(s)                           Mode(s)  \\\n",
       "0  November 19, 1998  First-person shooter  ['Single-player', 'multiplayer']   \n",
       "1     April 07, 1999  First-person shooter                       Multiplayer   \n",
       "2  November 09, 2000  First-person shooter                       Multiplayer   \n",
       "3       May 06, 2003  First-person shooter                       Multiplayer   \n",
       "4     March 23, 2004  First-person shooter  ['Single-player', 'multiplayer']   \n",
       "\n",
       "   Metascore  User Score                    Designer(s) Artist(s) Director(s)  \\\n",
       "0       96.0         9.1                            NaN       NaN         NaN   \n",
       "1        NaN         7.2  ['John Cook', 'Robin Walker']       NaN         NaN   \n",
       "2       88.0         9.2     ['Minh Le', 'Jess Cliffe']       NaN         NaN   \n",
       "3       79.0         9.0                            NaN       NaN         NaN   \n",
       "4       65.0         8.7                            NaN       NaN         NaN   \n",
       "\n",
       "  Producer(s) Programmer(s)  \n",
       "0         NaN           NaN  \n",
       "1         NaN           NaN  \n",
       "2         NaN           NaN  \n",
       "3         NaN           NaN  \n",
       "4         NaN           NaN  "
      ]
     },
     "execution_count": 19,
     "metadata": {},
     "output_type": "execute_result"
    }
   ],
   "source": [
    "valve_df = valve_df.drop(['Image_link', 'Source'], axis=1)\n",
    "valve_df.head()"
   ]
  },
  {
   "cell_type": "code",
   "execution_count": 22,
   "id": "a2791518",
   "metadata": {},
   "outputs": [
    {
     "data": {
      "text/plain": [
       "Valve                                                       22\n",
       "['Ritual Entertainment', 'Turtle Rock Studios', 'Valve']     1\n",
       "Valve South                                                  1\n",
       "['Valve', 'Turtle Rock Studios']                             1\n",
       "['Valve', 'Hidden Path Entertainment']                       1\n",
       "Facepunch Studios                                            1\n",
       "Name: Developer(s), dtype: int64"
      ]
     },
     "execution_count": 22,
     "metadata": {},
     "output_type": "execute_result"
    }
   ],
   "source": [
    "# Valve games usually developed by company itself\n",
    "valve_df['Developer(s)'].value_counts()"
   ]
  },
  {
   "cell_type": "code",
   "execution_count": 28,
   "id": "e4c93092",
   "metadata": {},
   "outputs": [
    {
     "data": {
      "text/plain": [
       "Valve                       20\n",
       "['Valve']                    2\n",
       "['Sierra Studios']           2\n",
       "['Sierra Entertainment']     1\n",
       "Sierra Studios               1\n",
       "['Activision']               1\n",
       "Name: Publisher(s), dtype: int64"
      ]
     },
     "execution_count": 28,
     "metadata": {},
     "output_type": "execute_result"
    }
   ],
   "source": [
    "valve_df['Publisher(s)'].value_counts()"
   ]
  },
  {
   "cell_type": "code",
   "execution_count": 29,
   "id": "1ba2ea0e",
   "metadata": {},
   "outputs": [
    {
     "data": {
      "text/plain": [
       "['Erik Wolpaw', 'Chet Faliszek']                                   3\n",
       "Chet Faliszek                                                      2\n",
       "Marc Laidlaw                                                       2\n",
       "Steve Jaros                                                        1\n",
       "['Jay Pinkerton', 'Sean Vanaman', 'Erik Wolpaw', 'Jake Rodkin']    1\n",
       "['Marc Laidlaw', 'Ted Kosmatka', 'Kris Katz']                      1\n",
       "['Erik Wolpaw', 'Jay Pinkerton', 'Chet Faliszek']                  1\n",
       "Name: Writer(s), dtype: int64"
      ]
     },
     "execution_count": 29,
     "metadata": {},
     "output_type": "execute_result"
    }
   ],
   "source": [
    "valve_df['Writer(s)'].value_counts()"
   ]
  },
  {
   "cell_type": "code",
   "execution_count": 33,
   "id": "301470c9",
   "metadata": {},
   "outputs": [
    {
     "data": {
      "text/plain": [
       "<AxesSubplot:>"
      ]
     },
     "execution_count": 33,
     "metadata": {},
     "output_type": "execute_result"
    },
    {
     "data": {
      "image/png": "[encoded data removed]",
      "text/plain": [
       "<Figure size 432x288 with 2 Axes>"
      ]
     },
     "metadata": {
      "needs_background": "light"
     },
     "output_type": "display_data"
    }
   ],
   "source": [
    "import seaborn as sns\n",
    "\n",
    "sns.heatmap(valve_df[['Metascore', 'User Score']].corr())"
   ]
  },
  {
   "cell_type": "code",
   "execution_count": null,
   "id": "98473930",
   "metadata": {},
   "outputs": [],
   "source": [
    "# questions to answer:\n",
    "    # which gaming company has a better overall rating\n",
    "        # cluster metascores (maybe color code by user score)\n",
    "    # do scores improve over time (release date)\n",
    "    # do games without recorded writers/composers etc have better score\n",
    "    # relation between genre and score"
   ]
  },
  {
   "cell_type": "markdown",
   "id": "6a88f91e",
   "metadata": {},
   "source": [
    "Tasks:\n",
    "- Scrape both websites\n",
    "- Convert to dictionary\n",
    "- Convert to pandas\n",
    "- Do some EDA\n",
    "- Make insights"
   ]
  },
  {
   "cell_type": "code",
   "execution_count": null,
   "id": "2ae02955",
   "metadata": {},
   "outputs": [],
   "source": []
  }
 ],
 "metadata": {
  "kernelspec": {
   "display_name": "Python 3",
   "language": "python",
   "name": "python3"
  },
  "language_info": {
   "codemirror_mode": {
    "name": "ipython",
    "version": 3
   },
   "file_extension": ".py",
   "mimetype": "text/x-python",
   "name": "python",
   "nbconvert_exporter": "python",
   "pygments_lexer": "ipython3",
   "version": "3.8.8"
  }
 },
 "nbformat": 4,
 "nbformat_minor": 5
}

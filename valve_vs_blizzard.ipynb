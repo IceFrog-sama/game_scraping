{
 "cells": [
  {
   "cell_type": "markdown",
   "id": "c6595304",
   "metadata": {},
   "source": [
    "##### Goal: Find out which game company has a higher overall rating (Valve vs Blizzard)"
   ]
  },
  {
   "cell_type": "code",
   "execution_count": 19,
   "id": "a058ef25",
   "metadata": {},
   "outputs": [],
   "source": [
    "from bs4 import BeautifulSoup as bs\n",
    "import requests"
   ]
  },
  {
   "cell_type": "code",
   "execution_count": 40,
   "id": "cf564b57",
   "metadata": {},
   "outputs": [],
   "source": [
    "valve_url = 'https://en.wikipedia.org/wiki/List_of_Valve_games'\n",
    "blizzard_url = 'https://en.wikipedia.org/wiki/List_of_Blizzard_Entertainment_games'\n",
    "\n",
    "valve_html = requests.get(valve_url)\n",
    "blizzard_html = requests.get(blizzard_url)"
   ]
  },
  {
   "cell_type": "code",
   "execution_count": 21,
   "id": "d3246cb9",
   "metadata": {},
   "outputs": [],
   "source": [
    "soup = bs(valve_html.content)\n",
    "\n",
    "contents = soup.prettify()\n",
    "\n",
    "#print(contents)"
   ]
  },
  {
   "cell_type": "code",
   "execution_count": 41,
   "id": "092c9421",
   "metadata": {},
   "outputs": [],
   "source": [
    "games = soup.select('.wikitable i a')\n",
    "game_path = games[0]['href']\n",
    "\n",
    "#game_path"
   ]
  },
  {
   "cell_type": "code",
   "execution_count": 42,
   "id": "1bc56513",
   "metadata": {},
   "outputs": [],
   "source": [
    "def get_game_links(url):\n",
    "    html = requests.get(url)\n",
    "    soup = bs(html.content)\n",
    "    games = soup.select('.wikitable i a')\n",
    "    games = soup.select('.wikitable .fn i a')\n",
    "    game_links = []\n",
    "    base_path = 'https://en.wikipedia.org'\n",
    "\n",
    "    for game in games:\n",
    "        # subdirectory example: \"/wiki/Half-Life_(video_game)\"\n",
    "        game_subdirectory = game['href']\n",
    "        path = base_path + game_subdirectory\n",
    "        game_links.append(path)\n",
    "    \n",
    "    return game_links\n",
    "\n",
    "#get_game_links('https://en.wikipedia.org/wiki/List_of_Valve_games')"
   ]
  },
  {
   "cell_type": "code",
   "execution_count": 43,
   "id": "711aeab8",
   "metadata": {},
   "outputs": [],
   "source": [
    "import re\n",
    "\n",
    "def remove_ref(contents):\n",
    "    # regular expression to find all matches with format [c] where c is any character eg. [a] or [1]\n",
    "    reference = r'\\[.\\]'\n",
    "    \n",
    "    if type(contents) == str:\n",
    "        matches = re.findall(reference, contents)\n",
    "        # for each match, remove it from the string\n",
    "        for match in matches:\n",
    "            contents = contents.replace(match, '')\n",
    "        return contents\n",
    "    \n",
    "    elif type(contents) == list:\n",
    "        contents_list = []\n",
    "        for my_string in contents:\n",
    "            matches = re.findall(reference, my_string)\n",
    "            for match in matches:\n",
    "                my_string = my_string.replace(match, '')\n",
    "            contents_list.append(my_string)\n",
    "        return contents_list"
   ]
  },
  {
   "cell_type": "code",
   "execution_count": 44,
   "id": "264fc343",
   "metadata": {},
   "outputs": [],
   "source": [
    "def get_row_contents(row):\n",
    "    # to handle releases\n",
    "    # strip=True to remove whitespace chars (\\n, xa0, etc)\n",
    "    if row.select('li ul li'):\n",
    "        return [li.get_text('', strip=True) for li in row.select('li ul li')]\n",
    "    elif row.find('li'):\n",
    "        return [li.get_text('', strip=True) for li in row.find_all('li')]\n",
    "    #elif row.find('br'):\n",
    "        #return [text for text in row.stripped_strings]\n",
    "    #elif \",\" in row.get_text():\n",
    "        #return [text.strip() for text in row.find('td', class_='infobox-data').get_text().split(',')]\n",
    "    else:  \n",
    "        return row.find('td', class_='infobox-data').get_text()"
   ]
  },
  {
   "cell_type": "code",
   "execution_count": 46,
   "id": "9f7b8b58",
   "metadata": {},
   "outputs": [],
   "source": [
    "import re\n",
    "\n",
    "def get_release_date(contents):\n",
    "    # June 15, 2005 or 15 June 2005\n",
    "    date_re = r'([A-Za-z]+[ ]\\d+,[ ]\\d+)|(\\d+[ ][A-Za-z]+[ ]\\d+)'\n",
    "    \n",
    "    if type(contents) == str:\n",
    "        match = re.search(date_re, contents)\n",
    "        return match.group()\n",
    "    elif type(contents) == list:\n",
    "        for item in contents:\n",
    "            match = re.search(date_re, item)\n",
    "            if (match != None):\n",
    "                return match.group()\n",
    "\n",
    "#get_release_date(['Microsoft Windows', '29 November 2006', 'Mac OS X', '23 September 2010', 'Linux', '5 June 2013'])"
   ]
  },
  {
   "cell_type": "code",
   "execution_count": 47,
   "id": "cfaff16f",
   "metadata": {},
   "outputs": [],
   "source": [
    "import re\n",
    "\n",
    "def name_to_link(name):\n",
    "    # matches when a char is not a-zA-Z or 0-9 or \"_\"\n",
    "    alphanumeric_re = r'\\W'\n",
    "    \n",
    "    name = name.lower()\n",
    "    name = name.replace(' ', '_')\n",
    "    name = name.replace('-', '_')\n",
    "    # remove matches of non alphanumeric or \"_\"\n",
    "    name = re.sub(alphanumeric_re, '', name)\n",
    "    name = name.replace('_', '-')\n",
    "    \n",
    "    return name\n",
    "\n",
    "#print(name_to_link('Garry\\'s Mod'))\n",
    "#print(name_to_link('Half life 2: Lost Coast'))"
   ]
  },
  {
   "cell_type": "code",
   "execution_count": 52,
   "id": "743cd5dc",
   "metadata": {},
   "outputs": [],
   "source": [
    "names = ['Overwatch 2']\n",
    "\n",
    "def get_game_rating(name):\n",
    "    # change name to link format\n",
    "    # eg. https://www.metacritic.com/game/pc/garrys-mod, https://www.metacritic.com/game/pc/half-life\n",
    "    name = name_to_link(name)\n",
    "    url = f'https://www.metacritic.com/game/pc/{name}'\n",
    "    #print(url)\n",
    "\n",
    "    user_agent = {'User-agent': 'Mozilla/5.0'}\n",
    "    response = requests.get(url, headers = user_agent)\n",
    "    soup = bs(response.content)\n",
    "    \n",
    "    metascore = soup.find('span', itemprop='ratingValue')\n",
    "    if metascore is not None:\n",
    "        metascore_str = metascore.get_text()\n",
    "    else:\n",
    "        metascore_str = 'N/A'\n",
    "        \n",
    "        \n",
    "    userscore = soup.select('.score_summary .metascore_anchor .metascore_w.user')\n",
    "    # by default returns empty list\n",
    "    if len(userscore) > 0:\n",
    "        userscore_str = userscore[0].get_text()\n",
    "    else:\n",
    "        userscore_str = 'N/A'\n",
    "    \n",
    "    return metascore_str, userscore_str\n",
    "\n",
    "#for name in names:\n",
    "    #print(get_game_rating(name))"
   ]
  },
  {
   "cell_type": "code",
   "execution_count": 53,
   "id": "5dbaa9e8",
   "metadata": {},
   "outputs": [],
   "source": [
    "def get_info_box(url):\n",
    "    game_html = requests.get(url)\n",
    "    game_soup = bs(game_html.content)\n",
    "    base_path = 'https://en.wikipedia.org'\n",
    "    \n",
    "    info_box = game_soup.find('table', class_='infobox')\n",
    "    info_rows = info_box.find_all('tr')\n",
    "    \n",
    "    game_info = {}\n",
    "    \n",
    "    for i, row in enumerate(info_rows):\n",
    "        # get title from infobox\n",
    "        if row.select('.infobox-above'):\n",
    "            game_info['Name'] = row.find('th').get_text()\n",
    "            # handling really rare edge case with different naming\n",
    "            if game_info['Name'] == 'Hearthstone':\n",
    "                game_info['Name'] = 'Hearthstone: Heroes of Warcraft'\n",
    "        # get image link from infobox\n",
    "        elif row.select('.infobox-image'):\n",
    "            image_link = base_path + row.find('a')['href']\n",
    "            game_info['Image_link'] = image_link\n",
    "        else:\n",
    "            label = row.find('th', class_='infobox-label').get_text()\n",
    "            contents = get_row_contents(row)\n",
    "            if (label == 'Release'):\n",
    "                contents = get_release_date(contents)\n",
    "                \n",
    "            contents = remove_ref(contents)\n",
    "            game_info[label] = contents\n",
    "    \n",
    "    game_info['Source'] = url\n",
    "    \n",
    "    metascore, userscore = get_game_rating(game_info['Name'])\n",
    "    game_info['Metascore'] = metascore\n",
    "    game_info['User Score'] = userscore\n",
    "    \n",
    "    return game_info\n",
    "    \n",
    "    \n",
    "#get_info_box('https://en.wikipedia.org/wiki/Garry%27s_Mod')"
   ]
  },
  {
   "cell_type": "code",
   "execution_count": 54,
   "id": "bd2ba608",
   "metadata": {},
   "outputs": [],
   "source": [
    "def scrape_game_company(url):\n",
    "    game_links = get_game_links(url)\n",
    "    games_info = []\n",
    "    for i, link in enumerate(game_links):\n",
    "        try:\n",
    "            games_info.append(get_info_box(link))\n",
    "            if (i % 10 == 0):\n",
    "                print(f'--Scraped {i} games--')\n",
    "\n",
    "        except Exception as e:\n",
    "            print(link)\n",
    "            print(e)\n",
    "\n",
    "    print(f'Scraping finished with {i} games')\n",
    "    return games_info"
   ]
  },
  {
   "cell_type": "code",
   "execution_count": 55,
   "id": "dc1753a1",
   "metadata": {},
   "outputs": [
    {
     "name": "stdout",
     "output_type": "stream",
     "text": [
      "--Scraped 0 games--\n",
      "--Scraped 10 games--\n",
      "--Scraped 20 games--\n",
      "Scraping finished with 26 games\n"
     ]
    }
   ],
   "source": [
    "valve_games = scrape_game_company(valve_url)"
   ]
  },
  {
   "cell_type": "code",
   "execution_count": 56,
   "id": "ff601dae",
   "metadata": {},
   "outputs": [
    {
     "name": "stdout",
     "output_type": "stream",
     "text": [
      "--Scraped 0 games--\n",
      "--Scraped 10 games--\n",
      "https://en.wikipedia.org/wiki/Overwatch_2\n",
      "'NoneType' object has no attribute 'group'\n",
      "https://en.wikipedia.org/wiki/Diablo_IV\n",
      "'NoneType' object has no attribute 'group'\n",
      "Scraping finished with 21 games\n"
     ]
    }
   ],
   "source": [
    "# ignore exceptions (they're games that haven't been released)\n",
    "blizzard_games = scrape_game_company(blizzard_url)"
   ]
  },
  {
   "cell_type": "markdown",
   "id": "c6077b63",
   "metadata": {},
   "source": [
    "Things to clean:\n",
    "- Remove references [a] [1] etc\n",
    "- Convert from all li in one string to list of strings\n",
    "- In release, format from '\\nNovember 19, 1998\\n Windows' to 'November 19, 1998 (Windows)'"
   ]
  },
  {
   "cell_type": "code",
   "execution_count": null,
   "id": "a2791518",
   "metadata": {},
   "outputs": [],
   "source": []
  },
  {
   "cell_type": "markdown",
   "id": "6a88f91e",
   "metadata": {},
   "source": [
    "Tasks:\n",
    "- Scrape both websites\n",
    "- Convert to dictionary\n",
    "- Convert to pandas\n",
    "- Do some EDA\n",
    "- Make insights"
   ]
  },
  {
   "cell_type": "code",
   "execution_count": null,
   "id": "2ae02955",
   "metadata": {},
   "outputs": [],
   "source": []
  }
 ],
 "metadata": {
  "kernelspec": {
   "display_name": "Python 3",
   "language": "python",
   "name": "python3"
  },
  "language_info": {
   "codemirror_mode": {
    "name": "ipython",
    "version": 3
   },
   "file_extension": ".py",
   "mimetype": "text/x-python",
   "name": "python",
   "nbconvert_exporter": "python",
   "pygments_lexer": "ipython3",
   "version": "3.8.8"
  }
 },
 "nbformat": 4,
 "nbformat_minor": 5
}
